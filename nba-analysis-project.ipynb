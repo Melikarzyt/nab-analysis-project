{
 "cells": [
  {
   "cell_type": "code",
   "execution_count": 2,
   "id": "d8cb871b",
   "metadata": {},
   "outputs": [],
   "source": [
    "import numpy as np\n",
    "import pandas as pd\n",
    "from sklearn.linear_model import LogisticRegression\n",
    "from sklearn.model_selection import train_test_split\n",
    "from sklearn.metrics import accuracy_score, classification_report"
   ]
  },
  {
   "cell_type": "code",
   "execution_count": 3,
   "id": "902813cd",
   "metadata": {},
   "outputs": [],
   "source": [
    "train = pd.read_csv('nba_players_train.csv')\n",
    "test = pd.read_csv('nba_players_test.csv')"
   ]
  },
  {
   "cell_type": "code",
   "execution_count": 4,
   "id": "147d7edd",
   "metadata": {},
   "outputs": [
    {
     "data": {
      "text/html": [
       "<div>\n",
       "<style scoped>\n",
       "    .dataframe tbody tr th:only-of-type {\n",
       "        vertical-align: middle;\n",
       "    }\n",
       "\n",
       "    .dataframe tbody tr th {\n",
       "        vertical-align: top;\n",
       "    }\n",
       "\n",
       "    .dataframe thead th {\n",
       "        text-align: right;\n",
       "    }\n",
       "</style>\n",
       "<table border=\"1\" class=\"dataframe\">\n",
       "  <thead>\n",
       "    <tr style=\"text-align: right;\">\n",
       "      <th></th>\n",
       "      <th>name</th>\n",
       "      <th>gp</th>\n",
       "      <th>min</th>\n",
       "      <th>pts</th>\n",
       "      <th>fgm</th>\n",
       "      <th>fga</th>\n",
       "      <th>fg</th>\n",
       "      <th>3p_made</th>\n",
       "      <th>3pa</th>\n",
       "      <th>3p</th>\n",
       "      <th>...</th>\n",
       "      <th>fta</th>\n",
       "      <th>ft</th>\n",
       "      <th>oreb</th>\n",
       "      <th>dreb</th>\n",
       "      <th>reb</th>\n",
       "      <th>ast</th>\n",
       "      <th>stl</th>\n",
       "      <th>blk</th>\n",
       "      <th>tov</th>\n",
       "      <th>target_5yrs</th>\n",
       "    </tr>\n",
       "  </thead>\n",
       "  <tbody>\n",
       "    <tr>\n",
       "      <th>0</th>\n",
       "      <td>James Young</td>\n",
       "      <td>31</td>\n",
       "      <td>10.7</td>\n",
       "      <td>3.4</td>\n",
       "      <td>1.2</td>\n",
       "      <td>3.3</td>\n",
       "      <td>35.3</td>\n",
       "      <td>0.5</td>\n",
       "      <td>2.1</td>\n",
       "      <td>25.8</td>\n",
       "      <td>...</td>\n",
       "      <td>0.9</td>\n",
       "      <td>55.2</td>\n",
       "      <td>0.3</td>\n",
       "      <td>1.1</td>\n",
       "      <td>1.4</td>\n",
       "      <td>0.4</td>\n",
       "      <td>0.3</td>\n",
       "      <td>0.1</td>\n",
       "      <td>0.2</td>\n",
       "      <td>0</td>\n",
       "    </tr>\n",
       "    <tr>\n",
       "      <th>1</th>\n",
       "      <td>Michael Anderson</td>\n",
       "      <td>65</td>\n",
       "      <td>18.5</td>\n",
       "      <td>7.4</td>\n",
       "      <td>2.9</td>\n",
       "      <td>5.8</td>\n",
       "      <td>50.1</td>\n",
       "      <td>0.0</td>\n",
       "      <td>0.1</td>\n",
       "      <td>0.0</td>\n",
       "      <td>...</td>\n",
       "      <td>2.7</td>\n",
       "      <td>57.1</td>\n",
       "      <td>1.8</td>\n",
       "      <td>2.7</td>\n",
       "      <td>4.5</td>\n",
       "      <td>1.0</td>\n",
       "      <td>1.0</td>\n",
       "      <td>0.3</td>\n",
       "      <td>1.2</td>\n",
       "      <td>0</td>\n",
       "    </tr>\n",
       "    <tr>\n",
       "      <th>2</th>\n",
       "      <td>Kobe Bryant</td>\n",
       "      <td>71</td>\n",
       "      <td>15.5</td>\n",
       "      <td>7.6</td>\n",
       "      <td>2.5</td>\n",
       "      <td>5.9</td>\n",
       "      <td>41.7</td>\n",
       "      <td>0.7</td>\n",
       "      <td>1.9</td>\n",
       "      <td>37.5</td>\n",
       "      <td>...</td>\n",
       "      <td>2.3</td>\n",
       "      <td>81.9</td>\n",
       "      <td>0.7</td>\n",
       "      <td>1.2</td>\n",
       "      <td>1.9</td>\n",
       "      <td>1.3</td>\n",
       "      <td>0.7</td>\n",
       "      <td>0.3</td>\n",
       "      <td>1.6</td>\n",
       "      <td>1</td>\n",
       "    </tr>\n",
       "    <tr>\n",
       "      <th>3</th>\n",
       "      <td>Darrin Hancock</td>\n",
       "      <td>46</td>\n",
       "      <td>9.2</td>\n",
       "      <td>3.3</td>\n",
       "      <td>1.5</td>\n",
       "      <td>2.6</td>\n",
       "      <td>56.2</td>\n",
       "      <td>0.0</td>\n",
       "      <td>0.1</td>\n",
       "      <td>33.3</td>\n",
       "      <td>...</td>\n",
       "      <td>0.8</td>\n",
       "      <td>41.0</td>\n",
       "      <td>0.3</td>\n",
       "      <td>0.8</td>\n",
       "      <td>1.2</td>\n",
       "      <td>0.7</td>\n",
       "      <td>0.4</td>\n",
       "      <td>0.1</td>\n",
       "      <td>0.7</td>\n",
       "      <td>0</td>\n",
       "    </tr>\n",
       "    <tr>\n",
       "      <th>4</th>\n",
       "      <td>Brent Price</td>\n",
       "      <td>68</td>\n",
       "      <td>12.6</td>\n",
       "      <td>3.9</td>\n",
       "      <td>1.5</td>\n",
       "      <td>4.1</td>\n",
       "      <td>35.8</td>\n",
       "      <td>0.1</td>\n",
       "      <td>0.7</td>\n",
       "      <td>16.7</td>\n",
       "      <td>...</td>\n",
       "      <td>1.0</td>\n",
       "      <td>79.4</td>\n",
       "      <td>0.4</td>\n",
       "      <td>1.1</td>\n",
       "      <td>1.5</td>\n",
       "      <td>2.3</td>\n",
       "      <td>0.8</td>\n",
       "      <td>0.0</td>\n",
       "      <td>1.3</td>\n",
       "      <td>1</td>\n",
       "    </tr>\n",
       "  </tbody>\n",
       "</table>\n",
       "<p>5 rows × 21 columns</p>\n",
       "</div>"
      ],
      "text/plain": [
       "               name  gp   min  pts  fgm  fga    fg  3p_made  3pa    3p  ...  \\\n",
       "0       James Young  31  10.7  3.4  1.2  3.3  35.3      0.5  2.1  25.8  ...   \n",
       "1  Michael Anderson  65  18.5  7.4  2.9  5.8  50.1      0.0  0.1   0.0  ...   \n",
       "2       Kobe Bryant  71  15.5  7.6  2.5  5.9  41.7      0.7  1.9  37.5  ...   \n",
       "3    Darrin Hancock  46   9.2  3.3  1.5  2.6  56.2      0.0  0.1  33.3  ...   \n",
       "4       Brent Price  68  12.6  3.9  1.5  4.1  35.8      0.1  0.7  16.7  ...   \n",
       "\n",
       "   fta    ft  oreb  dreb  reb  ast  stl  blk  tov  target_5yrs  \n",
       "0  0.9  55.2   0.3   1.1  1.4  0.4  0.3  0.1  0.2            0  \n",
       "1  2.7  57.1   1.8   2.7  4.5  1.0  1.0  0.3  1.2            0  \n",
       "2  2.3  81.9   0.7   1.2  1.9  1.3  0.7  0.3  1.6            1  \n",
       "3  0.8  41.0   0.3   0.8  1.2  0.7  0.4  0.1  0.7            0  \n",
       "4  1.0  79.4   0.4   1.1  1.5  2.3  0.8  0.0  1.3            1  \n",
       "\n",
       "[5 rows x 21 columns]"
      ]
     },
     "execution_count": 4,
     "metadata": {},
     "output_type": "execute_result"
    }
   ],
   "source": [
    "train.head()"
   ]
  },
  {
   "cell_type": "code",
   "execution_count": 5,
   "id": "82bd3de1",
   "metadata": {},
   "outputs": [
    {
     "name": "stdout",
     "output_type": "stream",
     "text": [
      "name            object\n",
      "gp               int64\n",
      "min            float64\n",
      "pts            float64\n",
      "fgm            float64\n",
      "fga            float64\n",
      "fg             float64\n",
      "3p_made        float64\n",
      "3pa            float64\n",
      "3p             float64\n",
      "ftm            float64\n",
      "fta            float64\n",
      "ft             float64\n",
      "oreb           float64\n",
      "dreb           float64\n",
      "reb            float64\n",
      "ast            float64\n",
      "stl            float64\n",
      "blk            float64\n",
      "tov            float64\n",
      "target_5yrs      int64\n",
      "dtype: object\n"
     ]
    }
   ],
   "source": [
    "print(train.dtypes)"
   ]
  },
  {
   "cell_type": "code",
   "execution_count": 6,
   "id": "9cbd349b",
   "metadata": {},
   "outputs": [
    {
     "name": "stdout",
     "output_type": "stream",
     "text": [
      "name        object\n",
      "gp           int64\n",
      "min        float64\n",
      "pts        float64\n",
      "fgm        float64\n",
      "fga        float64\n",
      "fg         float64\n",
      "3p_made    float64\n",
      "3pa        float64\n",
      "3p         float64\n",
      "ftm        float64\n",
      "fta        float64\n",
      "ft         float64\n",
      "oreb       float64\n",
      "dreb       float64\n",
      "reb        float64\n",
      "ast        float64\n",
      "stl        float64\n",
      "blk        float64\n",
      "tov        float64\n",
      "dtype: object\n"
     ]
    }
   ],
   "source": [
    "print(test.dtypes)"
   ]
  },
  {
   "cell_type": "code",
   "execution_count": 7,
   "id": "d29c8683",
   "metadata": {},
   "outputs": [
    {
     "name": "stdout",
     "output_type": "stream",
     "text": [
      "name           0\n",
      "gp             0\n",
      "min            0\n",
      "pts            0\n",
      "fgm            0\n",
      "fga            0\n",
      "fg             0\n",
      "3p_made        0\n",
      "3pa            0\n",
      "3p             0\n",
      "ftm            0\n",
      "fta            0\n",
      "ft             0\n",
      "oreb           0\n",
      "dreb           0\n",
      "reb            0\n",
      "ast            0\n",
      "stl            0\n",
      "blk            0\n",
      "tov            0\n",
      "target_5yrs    0\n",
      "dtype: int64\n"
     ]
    }
   ],
   "source": [
    "print(train.isnull().sum())"
   ]
  },
  {
   "cell_type": "code",
   "execution_count": 8,
   "id": "45d3f1c5",
   "metadata": {},
   "outputs": [
    {
     "name": "stdout",
     "output_type": "stream",
     "text": [
      "name       0\n",
      "gp         0\n",
      "min        0\n",
      "pts        0\n",
      "fgm        0\n",
      "fga        0\n",
      "fg         0\n",
      "3p_made    0\n",
      "3pa        0\n",
      "3p         0\n",
      "ftm        0\n",
      "fta        0\n",
      "ft         0\n",
      "oreb       0\n",
      "dreb       0\n",
      "reb        0\n",
      "ast        0\n",
      "stl        0\n",
      "blk        0\n",
      "tov        0\n",
      "dtype: int64\n"
     ]
    }
   ],
   "source": [
    "print(test.isnull().sum())"
   ]
  },
  {
   "cell_type": "code",
   "execution_count": 9,
   "id": "4321d998",
   "metadata": {},
   "outputs": [],
   "source": [
    "train.drop(columns=['name'], inplace=True)\n",
    "test.drop(columns=['name'], inplace=True)"
   ]
  },
  {
   "cell_type": "code",
   "execution_count": 10,
   "id": "0de60bcb",
   "metadata": {},
   "outputs": [],
   "source": [
    "x_train = train.drop(columns=['target_5yrs'])\n",
    "y_train = train['target_5yrs']"
   ]
  },
  {
   "cell_type": "code",
   "execution_count": 11,
   "id": "6cfd0464",
   "metadata": {},
   "outputs": [],
   "source": [
    "x_train_split, x_val, y_train_split, y_val = train_test_split(x_train, y_train, test_size=0.2, random_state=42)"
   ]
  },
  {
   "cell_type": "code",
   "execution_count": 12,
   "id": "056cad7d",
   "metadata": {},
   "outputs": [
    {
     "name": "stderr",
     "output_type": "stream",
     "text": [
      "/Library/Frameworks/Python.framework/Versions/3.13/lib/python3.13/site-packages/sklearn/linear_model/_logistic.py:465: ConvergenceWarning: lbfgs failed to converge (status=1):\n",
      "STOP: TOTAL NO. OF ITERATIONS REACHED LIMIT.\n",
      "\n",
      "Increase the number of iterations (max_iter) or scale the data as shown in:\n",
      "    https://scikit-learn.org/stable/modules/preprocessing.html\n",
      "Please also refer to the documentation for alternative solver options:\n",
      "    https://scikit-learn.org/stable/modules/linear_model.html#logistic-regression\n",
      "  n_iter_i = _check_optimize_result(\n"
     ]
    }
   ],
   "source": [
    "model = LogisticRegression(class_weight='balanced', max_iter=1000, penalty='l2', solver='lbfgs', random_state=42)\n",
    "model.fit(x_train_split, y_train_split)\n",
    "val_pred = model.predict(x_val)"
   ]
  },
  {
   "cell_type": "code",
   "execution_count": null,
   "id": "35b17f8e",
   "metadata": {},
   "outputs": [],
   "source": []
  }
 ],
 "metadata": {
  "kernelspec": {
   "display_name": "Python 3",
   "language": "python",
   "name": "python3"
  },
  "language_info": {
   "codemirror_mode": {
    "name": "ipython",
    "version": 3
   },
   "file_extension": ".py",
   "mimetype": "text/x-python",
   "name": "python",
   "nbconvert_exporter": "python",
   "pygments_lexer": "ipython3",
   "version": "3.13.3"
  }
 },
 "nbformat": 4,
 "nbformat_minor": 5
}
